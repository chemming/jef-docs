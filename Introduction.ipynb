{
 "cells": [
  {
   "cell_type": "markdown",
   "metadata": {},
   "source": [
    "# Jupyter Experiment Framework (jef)\n",
    "\n",
    "## Introduction\n",
    "\n",
    "This set of Jupyter Notebooks explains installation of jef, its usage for running experiments, and the managing of experiments.\n",
    "\n",
    "**Installation and general considerations**\n",
    "\n",
    "```\n",
    "Installation.ipynb\n",
    "BeforeStarting.ipynb\n",
    "```\n",
    "\n",
    "**Using jef to run experiments**\n",
    "\n",
    "```\n",
    "experimentFormatSubmit.ipynb \n",
    "``` \n",
    "\n",
    " \n",
    "\n",
    " \n",
    "\n",
    " \n",
    "\n",
    "\n",
    "\n",
    "**Managing Experiments**\n",
    "\n",
    " \n",
    "``` \n",
    "listExperiments.ipynb\n",
    "haltJob.ipynb\n",
    "haltAllJobs.ipynb\n",
    "listQueue.ipynb \n",
    "wipeQueue.ipynb\n",
    "deleteFromQueue.ipynb \n",
    "plotResults.ipynb\n",
    "wipeQueue.ipynb\n",
    "getSettings.ipynb \n",
    "getSource.ipynb \n",
    "\n",
    "``` \n",
    " \n",
    "  "
   ]
  },
  {
   "cell_type": "code",
   "execution_count": null,
   "metadata": {
    "collapsed": true
   },
   "outputs": [],
   "source": []
  }
 ],
 "metadata": {
  "kernelspec": {
   "display_name": "Python 3",
   "language": "python",
   "name": "python3"
  },
  "language_info": {
   "codemirror_mode": {
    "name": "ipython",
    "version": 3
   },
   "file_extension": ".py",
   "mimetype": "text/x-python",
   "name": "python",
   "nbconvert_exporter": "python",
   "pygments_lexer": "ipython3",
   "version": "3.6.3"
  }
 },
 "nbformat": 4,
 "nbformat_minor": 2
}
