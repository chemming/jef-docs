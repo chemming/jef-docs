{
 "cells": [
  {
   "cell_type": "markdown",
   "metadata": {},
   "source": [
    "# Jupyter Experiment Framework\n",
    "\n",
    "## Before Starting\n",
    "\n",
    "### Python version\n",
    "\n",
    "This jef distribution must be run with Python 3.6 .\n",
    "\n",
    "### MongoDB\n",
    "\n",
    "jef requires a MongoDB server running on any host where job submission, job execution, or experiment management is carried out. It is assumed that the MongoDB server does not require authentication.\n",
    "\n",
    "### jobStarter\n",
    "\n",
    "jef requires the program `jobStarter.pyc` to be running. For every instance of the program running, one job may run simultaneously on the server (hence, to have two jobs running on the server, start two instances). jobStarter starts jobs from the queue automatically. To stop jobs running, kill the instances of jobStarter.\n",
    "\n",
    "The file `jobStarter.pyc` is included in this jef distribution and it will be found whereever pip places files from packages. For an Anaconda installation this is at `[PATH TO ANACONDA]/anaconda3/lib/python3.6/site-packages/[PACKAGE]` and `jobStarter.pyc` is found at `[PATH TO ANACONDA]/anaconda3/lib/python3.6/site-packages/jef/scripts/jobStarter.pyc`. It may be copied to another location if preferred.\n",
    "\n",
    "`jobStarter.pyc` should be started in the working directory where you would like temporary experiment files to be created. It is invoked with\n",
    "```\n",
    "python [PATH TO JOBSTARTER]/jobStarter.pyc\n",
    "```\n"
   ]
  },
  {
   "cell_type": "code",
   "execution_count": null,
   "metadata": {
    "collapsed": true
   },
   "outputs": [],
   "source": []
  }
 ],
 "metadata": {
  "kernelspec": {
   "display_name": "Python 3",
   "language": "python",
   "name": "python3"
  },
  "language_info": {
   "codemirror_mode": {
    "name": "ipython",
    "version": 3
   },
   "file_extension": ".py",
   "mimetype": "text/x-python",
   "name": "python",
   "nbconvert_exporter": "python",
   "pygments_lexer": "ipython3",
   "version": "3.6.3"
  }
 },
 "nbformat": 4,
 "nbformat_minor": 2
}
