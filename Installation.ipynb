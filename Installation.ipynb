{
 "cells": [
  {
   "cell_type": "markdown",
   "metadata": {},
   "source": [
    "# Jupyter Experiment Framework (jef)\n",
    "\n",
    "## Installing jef\n",
    "\n",
    "* you need to get a download user name and password from Pax (at present use username=`pypi` and password=`pax1385`)\n",
    "* from a terminal command line:\n",
    "```\n",
    "[user@localhost ~]$ pip install --trusted-host ec2.paxculturastudios.com --extra-index-url  http://ec2.paxculturastudios.com:8080 jef\n",
    "```\n",
    "* enter the user name and password at the prompts\n",
    "* if it works jef will be downloaded and installed\n",
    "* start an interactive python session by typing `python` at the command-line prompt (the version of Python has to be 3.6; you can ensure Python 3 is running by typing `python3` instead of `python`, although this will not guarantee the subversion is 3.6\n",
    "* at the Python interactive prompt:\n",
    "```\n",
    ">>> import jef\n",
    "```\n",
    "* if there are no error messages it means that jef has been correctly installed and is now ready to be used in your code"
   ]
  },
  {
   "cell_type": "code",
   "execution_count": null,
   "metadata": {
    "collapsed": true
   },
   "outputs": [],
   "source": []
  }
 ],
 "metadata": {
  "kernelspec": {
   "display_name": "Python 3",
   "language": "python",
   "name": "python3"
  },
  "language_info": {
   "codemirror_mode": {
    "name": "ipython",
    "version": 3
   },
   "file_extension": ".py",
   "mimetype": "text/x-python",
   "name": "python",
   "nbconvert_exporter": "python",
   "pygments_lexer": "ipython3",
   "version": "3.6.3"
  }
 },
 "nbformat": 4,
 "nbformat_minor": 2
}
