{
 "cells": [
  {
   "cell_type": "markdown",
   "metadata": {},
   "source": [
    "# How to retrieve a job's output results and plot them"
   ]
  },
  {
   "cell_type": "code",
   "execution_count": null,
   "metadata": {
    "collapsed": true
   },
   "outputs": [],
   "source": [
    "# This cell has to be executed before we can use Experiment Manager \n",
    "\n",
    "# import Experiment Manager and create an instance.\n",
    "from jef.experiment_manager import experiment_manager\n",
    "em=experiment_manager()"
   ]
  },
  {
   "cell_type": "code",
   "execution_count": null,
   "metadata": {},
   "outputs": [],
   "source": [
    "# We list the completed jobs to help find the one we want.\n",
    "li=em.listexpts(status=['completed'])\n",
    "li"
   ]
  },
  {
   "cell_type": "code",
   "execution_count": null,
   "metadata": {},
   "outputs": [],
   "source": [
    "# Now we set up plotting.\n",
    "import pandas as pd\n",
    "import plotly.offline as po\n",
    "from plotly import tools\n",
    "import plotly.plotly as py\n",
    "import plotly.graph_objs as go\n",
    "po.init_notebook_mode(connected=True)"
   ]
  },
  {
   "cell_type": "code",
   "execution_count": null,
   "metadata": {},
   "outputs": [],
   "source": [
    "# Plotting the data.\n",
    "# We get the job's data.  \n",
    "\n",
    "# This form (experiment_manager.get_data()) returns it as a Pandas dataframe.\n",
    "# An alternate form is experiment_manager.get_data_list() which returns it as a Python list object.\n",
    "# We identify the job by name. Alternatives are to identify it by reference number using ref_no= \n",
    "# (the reference number is the row number from the last call of experiment_manager.listexpts()) or\n",
    "# to identify it by Mongo ID with mongo_id= (the Mongo ID is the '_id' field appearing in \n",
    "# the dataFrame returned from experiment_manager.listexpts()).\n",
    "#\n",
    "\n",
    "traces=[]\n",
    "dats = []\n",
    "df=em.get_data(name=\"testexperiment-20180805-1-23\")\n",
    "traces.append(go.Scatter(x=df['index'].tolist(),y=df['value_total'].tolist()))\n",
    "dats.append(df['value_total'].tolist())\n",
    "py.iplot(traces)\n",
    "\n"
   ]
  }
 ],
 "metadata": {
  "kernelspec": {
   "display_name": "Python 3",
   "language": "python",
   "name": "python3"
  },
  "language_info": {
   "codemirror_mode": {
    "name": "ipython",
    "version": 3
   },
   "file_extension": ".py",
   "mimetype": "text/x-python",
   "name": "python",
   "nbconvert_exporter": "python",
   "pygments_lexer": "ipython3",
   "version": "3.6.3"
  }
 },
 "nbformat": 4,
 "nbformat_minor": 2
}
