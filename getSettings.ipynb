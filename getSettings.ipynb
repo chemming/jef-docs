{
 "cells": [
  {
   "cell_type": "markdown",
   "metadata": {},
   "source": [
    "# How to retrieve a job's settings"
   ]
  },
  {
   "cell_type": "code",
   "execution_count": null,
   "metadata": {
    "collapsed": true
   },
   "outputs": [],
   "source": [
    "# This cell has to be executed before we can use Experiment Manager \n",
    "\n",
    " \n",
    "\n",
    "# import Experiment Manager and create an instance.\n",
    "from jef.experiment_manager import experiment_manager\n",
    "em=experiment_manager()"
   ]
  },
  {
   "cell_type": "code",
   "execution_count": null,
   "metadata": {
    "collapsed": true
   },
   "outputs": [],
   "source": [
    "# Listing jobs in the database\n",
    "em.listexpts()"
   ]
  },
  {
   "cell_type": "code",
   "execution_count": null,
   "metadata": {
    "collapsed": true
   },
   "outputs": [],
   "source": [
    "# Get settings.\n",
    "# Can also specify experiment with experiment_id=[EXPERIMENT ID]\n",
    "settings=em.get_settings(name=\"testexperiment-20180805-1-23\")\n",
    "settings"
   ]
  }
 ],
 "metadata": {
  "kernelspec": {
   "display_name": "Python 3",
   "language": "python",
   "name": "python3"
  },
  "language_info": {
   "codemirror_mode": {
    "name": "ipython",
    "version": 3
   },
   "file_extension": ".py",
   "mimetype": "text/x-python",
   "name": "python",
   "nbconvert_exporter": "python",
   "pygments_lexer": "ipython3",
   "version": "3.6.3"
  }
 },
 "nbformat": 4,
 "nbformat_minor": 2
}
