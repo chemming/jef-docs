{
 "cells": [
  {
   "cell_type": "markdown",
   "metadata": {},
   "source": [
    "# Jupyter Experiment Framework (jef)\n",
    "\n",
    "## How to write an experiment: required experiment format"
   ]
  },
  {
   "cell_type": "code",
   "execution_count": 1,
   "metadata": {
    "collapsed": true
   },
   "outputs": [],
   "source": [
    "# It's recommended that you put all the experiment code into one Python3 code cell.\n",
    "# The code cell will be turned into a module that is loaded by experiment_runner.\n",
    "# This cell should contain all the code for the experiment (i.e. it shouldn't reference\n",
    "# anything in other cells), and nothing but experiment code should be in the cell.\n",
    "\n",
    "# This example experiment performs a trivial calculation: on each step it generates a random vector of 5 \n",
    "# integers chosen from 0-9 (uniform probability with repetition).\n",
    "\n",
    "# imports that our code will need\n",
    "import random\n",
    "import time\n",
    "import datetime\n",
    "\n",
    "# Three methods are required in every experiment: init(), run_step(), and getLog().\n",
    "\n",
    "# init() is called once at the beginning of the run.\n",
    "# It is intended to be used to perform initialization tasks.\n",
    "# It takes an argument, settings, which is used to pass parameters. \n",
    "# The return value of init() does not matter.\n",
    "\n",
    "def init(settings={}):\n",
    "    global data_log             # The data log. An entry is added to it on every step.\n",
    "    global time_index           # time_index is the index of this step (default initial value=0)\n",
    "    global count_index          # count index is the number of remaining steps (default initial value=180)\n",
    "    if 'count_index' not in settings.keys():\n",
    "        settings['count_index']=180             # default is to run for 180 steps\n",
    "    count_index = settings['count_index']\n",
    "    if 'time_index' not in settings.keys():\n",
    "        settings['time_index']=0                # default: time starts with t=0\n",
    "    time_index = settings['time_index']\n",
    "    data_log=[]\n",
    "    random.seed()                # Initialize random number generator.\n",
    "    current_date=datetime.datetime(2018,1,1,0,0)\n",
    "    \n",
    "# run_step() performs one step of the calculation. It takes no arguments.    \n",
    "# It returns a value equivalent to True if there are to be further steps performed (i.e. the calculation\n",
    "# is not finished.) It returns a value equivalent to False on the last step.\n",
    "\n",
    "def run_step():\n",
    "    global data_log\n",
    "    global time_index\n",
    "    global count_index\n",
    "    time_index = time_index + 1\n",
    "    count_index = count_index - 1\n",
    "    vec=[random.randrange(0,10) for x in range(5)]\n",
    "    data_point = {'date':current_date,'time':time_index,'v0':vec[0],'v1':vec[1],'v2':vec[2],'v3':vec[3],'v4':vec[4]}\n",
    "    data_log.append(data_point)   # The data log gets an entry on every time step.\n",
    "    \n",
    "    current_date=current_date+datetime.timedelta(minutes=1)\n",
    "    time.sleep(1)                 # This is just so the experiment doesn't complete too quickly,\n",
    "                                  # so that we can demonstrate how to list running experiments.\n",
    "    return count_index\n",
    "\n",
    "\n",
    "# getLog() should be as shown (i.e. one argument, elems, with default value slice(None,None)).\n",
    "# \n",
    "# Calling getLog() with a single integer argument should return the corresponding entry of the data log,\n",
    "# with negative indexing supported.\n",
    "# E.g. getLog(-1) returns the entry of the data log from the last time step.\n",
    "# Calling getLog() with a slice argument returns the corresponding slice of the data log, with \n",
    "# Python slice conventions supported.\n",
    "\n",
    "# The returned quantity has to be a dictionary with a 'date' field\n",
    "\n",
    "def getLog(elems=slice(None,None)):\n",
    "    #getLog() takes as an argument any way valid for referencing a list\n",
    "    global time_index\n",
    "    global count_index\n",
    "    global data_log\n",
    "    return data_log[elems]"
   ]
  },
  {
   "cell_type": "markdown",
   "metadata": {},
   "source": [
    "## Submitting an experiment to the queue\n",
    " "
   ]
  },
  {
   "cell_type": "code",
   "execution_count": 1,
   "metadata": {},
   "outputs": [
    {
     "name": "stdout",
     "output_type": "stream",
     "text": [
      "example-2018-04-27T15:08:19 submitted to queue\n",
      "example-2018-04-27T15:08:19: checking if it can launch a job\n",
      "example-2018-04-27T15:08:19: Popped example-2018-04-27T15:08:19 from queue.\n",
      "example-2018-04-27T15:08:19: Now running example-2018-04-27T15:08:19\n"
     ]
    },
    {
     "data": {
      "text/plain": [
       "<jef.experiment_runner.experiment_runner at 0x7fb0705eb160>"
      ]
     },
     "execution_count": 1,
     "metadata": {},
     "output_type": "execute_result"
    },
    {
     "name": "stdout",
     "output_type": "stream",
     "text": [
      "example-2018-04-27T15:08:19 submitted to queue\n",
      "example-2018-04-27T15:08:19: checking if it can launch a job\n",
      "example-2018-04-27T15:08:19: Popped example-2018-04-27T15:08:19 from queue.\n"
     ]
    }
   ],
   "source": [
    "# Append the directory containing the jef package to the Python module search path.\n",
    "import sys\n",
    "import jef   \n",
    "from jef.experiment_runner import experiment_runner\n",
    "\n",
    "\n",
    "# We're going to use the current date and time in the name we give the experiment\n",
    "# because this should be sufficient for it to be a unique name.\n",
    "# The experiment name is used to identify the experiment from now on.\n",
    "import datetime\n",
    "name_str=\"example-\"+datetime.datetime.now().isoformat(timespec='seconds')\n",
    "\n",
    "# We submit a job to the queue with\n",
    "#\n",
    "#     experiment_runner(src[,name][,settings])\n",
    "#\n",
    "# 'src' is the name of this notebook (as a str)--you have to specify a value for 'src'.\n",
    "# 'src' can be any .ipynb file or .py file (the system has to find it so if it's not in the\n",
    "# current working directory you want to specify the path). In usual usage it's the name of \n",
    "# the notebook you're submitting from.\n",
    "#\n",
    "# 'name' is the experiment's name, a unique string that will be used to identify it in the future.\n",
    "# If you don't specify a value for 'name' experiment_runner will generate a unique name for the \n",
    "# experiment.\n",
    "#\n",
    "# Including a 'tags' list in the settings is optional. It makes it easier to locate jobs in the DB later.\n",
    "experiment_runner(src=\"experimentFormatSubmit.ipynb\",name=name_str,settings={'tags':['examples']})"
   ]
  }
 ],
 "metadata": {
  "kernelspec": {
   "display_name": "Python 3",
   "language": "python",
   "name": "python3"
  },
  "language_info": {
   "codemirror_mode": {
    "name": "ipython",
    "version": 3
   },
   "file_extension": ".py",
   "mimetype": "text/x-python",
   "name": "python",
   "nbconvert_exporter": "python",
   "pygments_lexer": "ipython3",
   "version": "3.6.3"
  }
 },
 "nbformat": 4,
 "nbformat_minor": 2
}
