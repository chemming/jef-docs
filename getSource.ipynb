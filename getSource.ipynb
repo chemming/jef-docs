{
 "cells": [
  {
   "cell_type": "markdown",
   "metadata": {},
   "source": [
    "# How to retrieve a job's source notebook or source Python module"
   ]
  },
  {
   "cell_type": "code",
   "execution_count": null,
   "metadata": {
    "collapsed": true
   },
   "outputs": [],
   "source": [
    "# This cell has to be executed before we can use Experiment Manager \n",
    "\n",
    "# import Experiment Manager and create an instance.\n",
    "from jef.experiment_manager import experiment_manager\n",
    "em=experiment_manager()"
   ]
  },
  {
   "cell_type": "code",
   "execution_count": null,
   "metadata": {
    "collapsed": true
   },
   "outputs": [],
   "source": [
    "# It may be helpful to list the jobs in the database.\n",
    "li=em.listexpts()\n",
    "li"
   ]
  },
  {
   "cell_type": "code",
   "execution_count": null,
   "metadata": {
    "collapsed": true
   },
   "outputs": [],
   "source": [
    "# Getting the job's notebook source.\n",
    "\n",
    "# The returned object contains all the (input) cells in the original Jupyter Notebook, \n",
    "# not just the ones that contained the experiment methods and which were used to \n",
    "# create the experiment's Python module.\n",
    "#\n",
    "# The Jupyter Notebook's output was stripped when it was saved, though. So there's no \n",
    "# way to get that. (And there is probably no (good) reason why you would want to.)\n",
    "nb=em.get_nb(\"MarketSimulator-group-1-20180313-999\")\n",
    "print(nb)"
   ]
  },
  {
   "cell_type": "code",
   "execution_count": null,
   "metadata": {
    "collapsed": true
   },
   "outputs": [],
   "source": [
    "# Getting the job's Python source.\n",
    "\n",
    "# The Python source is all the source cells from the original notebook which contained the experiment's methods,\n",
    "# and it is this source which is loaded as a module when the experiment executes. Other cells from the original\n",
    "# notebook which don't contain experiment methods were stripped in the extraction of this Python source.\n",
    "#\n",
    "# (In other words, this Python source is everything that the running experiment might actually use from the \n",
    "# notebook.)\n",
    "source=em.get_src(\"MarketSimulator-group-1-20180313-999\")\n",
    "print(source)"
   ]
  }
 ],
 "metadata": {
  "kernelspec": {
   "display_name": "Python 3",
   "language": "python",
   "name": "python3"
  },
  "language_info": {
   "codemirror_mode": {
    "name": "ipython",
    "version": 3
   },
   "file_extension": ".py",
   "mimetype": "text/x-python",
   "name": "python",
   "nbconvert_exporter": "python",
   "pygments_lexer": "ipython3",
   "version": "3.6.3"
  }
 },
 "nbformat": 4,
 "nbformat_minor": 2
}
